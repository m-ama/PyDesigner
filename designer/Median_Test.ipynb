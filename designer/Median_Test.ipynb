{
 "cells": [
  {
   "cell_type": "code",
   "execution_count": 1,
   "metadata": {},
   "outputs": [],
   "source": [
    "import nibabel as nib\n",
    "import numpy as np\n",
    "from fitting import dwipi as dp\n",
    "import matplotlib.pyplot as plt\n",
    "import time\n",
    "import os\n",
    "\n",
    "niiPath = 'D:\\SystemFiles\\siddh\\Box Sync\\Home-Work\\PARAMAPS\\\\mk.nii'\n",
    "niiPath2 = 'D:\\SystemFiles\\siddh\\Box Sync\\Home-Work\\PARAMAPS\\\\fa.nii'\n",
    "maskPath = 'D:\\SystemFiles\\siddh\\Box Sync\\Home-Work\\PARAMAPS\\\\brain_mask.nii'\n",
    "savePath = 'D:\\SystemFiles\\siddh\\Box Sync\\Home-Work\\PARAMAPS\\\\Median_Test'"
   ]
  },
  {
   "cell_type": "code",
   "execution_count": 2,
   "metadata": {},
   "outputs": [],
   "source": [
    "hdr = nib.load(niiPath)\n",
    "img = np.array(hdr.dataobj)\n",
    "hdr_mask = nib.load(maskPath)\n",
    "mask = np.array(hdr_mask.dataobj)\n",
    "hdr2 = nib.load(niiPath2)\n",
    "img2 = np.array(hdr2.dataobj)"
   ]
  },
  {
   "cell_type": "code",
   "execution_count": 3,
   "metadata": {},
   "outputs": [
    {
     "name": "stderr",
     "output_type": "stream",
     "text": [
      "Filter: Outlier Mask    : 100%|█| 187038/187038 [00:07<00:00, 24049.06vox/s]\n",
      "Filter: Find Replacement: 100%|█| 9287/9287 [00:00<00:00, 14352.46vox/s]\n"
     ]
    },
    {
     "name": "stdout",
     "output_type": "stream",
     "text": [
      "2 voxels out of 9287 were completely surrounded by violations and were ignored\n"
     ]
    }
   ],
   "source": [
    "filt = dp.medianFilter(img, mask, th=0.50, sz=3, conn='face')"
   ]
  },
  {
   "cell_type": "code",
   "execution_count": 4,
   "metadata": {},
   "outputs": [],
   "source": [
    "outlierPath = os.path.join(savePath, 'Outliers_Median.nii')\n",
    "dp.writeNii(filt.OutlierMask, hdr, outlierPath)"
   ]
  },
  {
   "cell_type": "code",
   "execution_count": 5,
   "metadata": {},
   "outputs": [
    {
     "data": {
      "text/plain": [
       "(110, 110, 62)"
      ]
     },
     "execution_count": 5,
     "metadata": {},
     "output_type": "execute_result"
    }
   ],
   "source": [
    "img.shape"
   ]
  },
  {
   "cell_type": "code",
   "execution_count": 6,
   "metadata": {},
   "outputs": [
    {
     "name": "stderr",
     "output_type": "stream",
     "text": [
      "\r",
      "Filter: Substitution    :   0%|             | 0/9287 [00:00<?, ?vox/s]"
     ]
    },
    {
     "name": "stdout",
     "output_type": "stream",
     "text": [
      "0\n",
      "[0.05111299 0.11872251]\n",
      "[0.05111299 0.11872251 0.04968438 0.14581248]\n",
      "1\n",
      "[0.11468566 0.14006275]\n",
      "[0.11468566 0.14006275 0.07494472 0.11282164]\n",
      "2\n",
      "[0.08090878 0.3426364 ]\n",
      "[0.08090878 0.3426364  0.1206298  0.15651771]\n",
      "3\n",
      "[0.0927713  0.15540679]\n",
      "[0.0927713  0.15540679 0.15350547 0.09985652]\n",
      "4\n",
      "[0.27010992 0.09220919]\n",
      "[0.27010992 0.09220919 0.10204683 0.27010992]\n",
      "5\n",
      "[0.22108443 0.3812121 ]\n",
      "[0.22108443 0.3812121  0.04823666 0.46523795]\n",
      "6\n",
      "[0.05519713 0.16070826]\n",
      "[0.05519713 0.16070826 0.09106262 0.08456459]\n",
      "7\n",
      "[0.11226997 0.13849318]\n",
      "[0.11226997 0.13849318 0.08421507 0.22466211]\n",
      "8\n",
      "9\n",
      "[0.34330094 0.41257793]\n",
      "[0.34330094 0.41257793 0.3192736  0.3766261 ]\n",
      "10\n",
      "11\n"
     ]
    },
    {
     "ename": "IndexError",
     "evalue": "index 42 is out of bounds for axis 2 with size 42",
     "output_type": "error",
     "traceback": [
      "\u001b[1;31m---------------------------------------------------------------------------\u001b[0m",
      "\u001b[1;31mIndexError\u001b[0m                                Traceback (most recent call last)",
      "\u001b[1;32m<ipython-input-6-cfb52d2e472f>\u001b[0m in \u001b[0;36m<module>\u001b[1;34m\u001b[0m\n\u001b[1;32m----> 1\u001b[1;33m \u001b[0mimg\u001b[0m \u001b[1;33m=\u001b[0m \u001b[0mfilt\u001b[0m\u001b[1;33m.\u001b[0m\u001b[0mapply\u001b[0m\u001b[1;33m(\u001b[0m\u001b[0mimg2\u001b[0m\u001b[1;33m)\u001b[0m\u001b[1;33m\u001b[0m\u001b[1;33m\u001b[0m\u001b[0m\n\u001b[0m\u001b[0;32m      2\u001b[0m \u001b[0mimgPath\u001b[0m \u001b[1;33m=\u001b[0m \u001b[0mos\u001b[0m\u001b[1;33m.\u001b[0m\u001b[0mpath\u001b[0m\u001b[1;33m.\u001b[0m\u001b[0mjoin\u001b[0m\u001b[1;33m(\u001b[0m\u001b[0msavePath\u001b[0m\u001b[1;33m,\u001b[0m \u001b[1;34m'mk_med.nii'\u001b[0m\u001b[1;33m)\u001b[0m\u001b[1;33m\u001b[0m\u001b[1;33m\u001b[0m\u001b[0m\n\u001b[0;32m      3\u001b[0m \u001b[0mdp\u001b[0m\u001b[1;33m.\u001b[0m\u001b[0mwriteNii\u001b[0m\u001b[1;33m(\u001b[0m\u001b[0mimg\u001b[0m\u001b[1;33m,\u001b[0m \u001b[0mhdr\u001b[0m\u001b[1;33m,\u001b[0m \u001b[0mimgPath\u001b[0m\u001b[1;33m)\u001b[0m\u001b[1;33m\u001b[0m\u001b[1;33m\u001b[0m\u001b[0m\n",
      "\u001b[1;32mD:\\Repos\\PyDesigner\\designer\\fitting\\dwipi.py\u001b[0m in \u001b[0;36mapply\u001b[1;34m(self, img, weight)\u001b[0m\n\u001b[0;32m   2076\u001b[0m                     patchImg = img[[Ib, Ie],\n\u001b[0;32m   2077\u001b[0m                                    \u001b[0mself\u001b[0m\u001b[1;33m.\u001b[0m\u001b[0mCartIdx\u001b[0m\u001b[1;33m[\u001b[0m\u001b[1;36m1\u001b[0m\u001b[1;33m,\u001b[0m \u001b[0mi\u001b[0m\u001b[1;33m]\u001b[0m\u001b[1;33m,\u001b[0m\u001b[1;33m\u001b[0m\u001b[1;33m\u001b[0m\u001b[0m\n\u001b[1;32m-> 2078\u001b[1;33m                                    self.CartIdx[2, i]]\n\u001b[0m\u001b[0;32m   2079\u001b[0m                     \u001b[0mprint\u001b[0m\u001b[1;33m(\u001b[0m\u001b[0mpatchImg\u001b[0m\u001b[1;33m)\u001b[0m\u001b[1;33m\u001b[0m\u001b[1;33m\u001b[0m\u001b[0m\n\u001b[0;32m   2080\u001b[0m                     patchImg = np.hstack((patchImg,\n",
      "\u001b[1;31mIndexError\u001b[0m: index 42 is out of bounds for axis 2 with size 42"
     ]
    }
   ],
   "source": [
    "img = filt.apply(img2)\n",
    "imgPath = os.path.join(savePath, 'mk_med.nii')\n",
    "dp.writeNii(img, hdr, imgPath)"
   ]
  }
 ],
 "metadata": {
  "kernelspec": {
   "display_name": "Python 3",
   "language": "python",
   "name": "python3"
  },
  "language_info": {
   "codemirror_mode": {
    "name": "ipython",
    "version": 3
   },
   "file_extension": ".py",
   "mimetype": "text/x-python",
   "name": "python",
   "nbconvert_exporter": "python",
   "pygments_lexer": "ipython3",
   "version": "3.7.3"
  }
 },
 "nbformat": 4,
 "nbformat_minor": 2
}
