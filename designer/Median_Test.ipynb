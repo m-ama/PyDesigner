{
 "cells": [
  {
   "cell_type": "code",
   "execution_count": 1,
   "metadata": {},
   "outputs": [],
   "source": [
    "import nibabel as nib\n",
    "import numpy as np\n",
    "from fitting import dwipi as dp\n",
    "import matplotlib.pyplot as plt\n",
    "import time\n",
    "import os\n",
    "\n",
    "niiPath = '/Users/sid/Downloads/nii_test/DWI/PARAMAPS/mk.nii'\n",
    "maskPath = '/Users/sid/Downloads/nii_test/DWI/PARAMAPS/brain_mask.nii'\n",
    "savePath = '/Users/sid/Downloads/nii_test/DWI/PARAMAPS/Median'"
   ]
  },
  {
   "cell_type": "code",
   "execution_count": 2,
   "metadata": {},
   "outputs": [],
   "source": [
    "hdr = nib.load(niiPath)\n",
    "img = np.array(hdr.dataobj)\n",
    "hdr_mask = nib.load(maskPath)\n",
    "mask = np.array(hdr_mask.dataobj)"
   ]
  },
  {
   "cell_type": "code",
   "execution_count": 3,
   "metadata": {},
   "outputs": [
    {
     "name": "stderr",
     "output_type": "stream",
     "text": [
      "Filter: Outlier Mask    : 100%|█| 187038/187038 [00:07<00:00, 25767.58vox/s]\n",
      "Filter: Find Replacement: 100%|█| 9287/9287 [00:00<00:00, 17434.78vox/s]"
     ]
    },
    {
     "name": "stdout",
     "output_type": "stream",
     "text": [
      "2 voxels out of 9287 were completely surrounded by violations and were ignored\n"
     ]
    },
    {
     "name": "stderr",
     "output_type": "stream",
     "text": [
      "\n"
     ]
    }
   ],
   "source": [
    "filt = dp.medianFilter(img, mask, th=0.50, sz=3, conn='face')"
   ]
  },
  {
   "cell_type": "code",
   "execution_count": 4,
   "metadata": {},
   "outputs": [],
   "source": [
    "outlierPath = os.path.join(savePath, 'Outliers_Median.nii')\n",
    "dp.writeNii(filt.OutlierMask, hdr, outlierPath)"
   ]
  },
  {
   "cell_type": "code",
   "execution_count": 5,
   "metadata": {},
   "outputs": [
    {
     "data": {
      "text/plain": [
       "5"
      ]
     },
     "execution_count": 5,
     "metadata": {},
     "output_type": "execute_result"
    }
   ],
   "source": [
    "np.max(filt.PatchIdx)"
   ]
  },
  {
   "cell_type": "code",
   "execution_count": 6,
   "metadata": {},
   "outputs": [
    {
     "name": "stderr",
     "output_type": "stream",
     "text": [
      "\r",
      "Filter: Substitution    :   0%|            | 0/61903 [00:00<?, ?vox/s]"
     ]
    },
    {
     "name": "stdout",
     "output_type": "stream",
     "text": [
      "[0 0 0]\n",
      "[0 0 1]\n",
      "[0 0 2]\n",
      "[0 0 3]\n",
      "[0 0 4]\n",
      "[0 0 5]\n",
      "[0 0 6]\n",
      "[0 0 7]\n",
      "[0 0 8]\n",
      "[0 0 9]\n",
      "[ 0  0 10]\n",
      "[ 0  0 11]\n",
      "[ 0  0 12]\n",
      "[ 0  0 13]\n",
      "[ 0  0 14]\n",
      "[ 0  0 15]\n",
      "[ 0  0 16]\n",
      "[ 0  0 17]\n",
      "[ 0  0 18]\n",
      "[ 0  0 19]\n",
      "[ 0  0 20]\n",
      "[ 0  0 21]\n"
     ]
    },
    {
     "ename": "IndexError",
     "evalue": "index 22 is out of bounds for axis 2 with size 22",
     "output_type": "error",
     "traceback": [
      "\u001b[0;31m---------------------------------------------------------------------------\u001b[0m",
      "\u001b[0;31mIndexError\u001b[0m                                Traceback (most recent call last)",
      "\u001b[0;32m<ipython-input-6-7cd41754b6b3>\u001b[0m in \u001b[0;36m<module>\u001b[0;34m\u001b[0m\n\u001b[0;32m----> 1\u001b[0;31m \u001b[0mimg\u001b[0m \u001b[0;34m=\u001b[0m \u001b[0mfilt\u001b[0m\u001b[0;34m.\u001b[0m\u001b[0mapply\u001b[0m\u001b[0;34m(\u001b[0m\u001b[0mimg\u001b[0m\u001b[0;34m)\u001b[0m\u001b[0;34m\u001b[0m\u001b[0;34m\u001b[0m\u001b[0m\n\u001b[0m\u001b[1;32m      2\u001b[0m \u001b[0mimgPath\u001b[0m \u001b[0;34m=\u001b[0m \u001b[0mos\u001b[0m\u001b[0;34m.\u001b[0m\u001b[0mpath\u001b[0m\u001b[0;34m.\u001b[0m\u001b[0mjoin\u001b[0m\u001b[0;34m(\u001b[0m\u001b[0msavePath\u001b[0m\u001b[0;34m,\u001b[0m \u001b[0;34m'mk_med.nii'\u001b[0m\u001b[0;34m)\u001b[0m\u001b[0;34m\u001b[0m\u001b[0;34m\u001b[0m\u001b[0m\n\u001b[1;32m      3\u001b[0m \u001b[0mdp\u001b[0m\u001b[0;34m.\u001b[0m\u001b[0mwriteNii\u001b[0m\u001b[0;34m(\u001b[0m\u001b[0mimg\u001b[0m\u001b[0;34m,\u001b[0m \u001b[0mhdr\u001b[0m\u001b[0;34m,\u001b[0m \u001b[0mimgPath\u001b[0m\u001b[0;34m)\u001b[0m\u001b[0;34m\u001b[0m\u001b[0;34m\u001b[0m\u001b[0m\n",
      "\u001b[0;32m~/Repos/PyDesigner/designer/fitting/dwipi.py\u001b[0m in \u001b[0;36mapply\u001b[0;34m(self, img, weight)\u001b[0m\n\u001b[1;32m   2082\u001b[0m                 patchImg = np.hstack((patchImg, img[cartIdx[0, i],\n\u001b[1;32m   2083\u001b[0m                                                     \u001b[0mcartIdx\u001b[0m\u001b[0;34m[\u001b[0m\u001b[0;36m1\u001b[0m\u001b[0;34m,\u001b[0m \u001b[0mi\u001b[0m\u001b[0;34m]\u001b[0m\u001b[0;34m,\u001b[0m\u001b[0;34m\u001b[0m\u001b[0;34m\u001b[0m\u001b[0m\n\u001b[0;32m-> 2084\u001b[0;31m                                                     [Kb, Ke]]))\n\u001b[0m\u001b[1;32m   2085\u001b[0m             \u001b[0;32mif\u001b[0m \u001b[0mself\u001b[0m\u001b[0;34m.\u001b[0m\u001b[0mPatchIdx\u001b[0m\u001b[0;34m[\u001b[0m\u001b[0mi\u001b[0m\u001b[0;34m]\u001b[0m \u001b[0;34m>\u001b[0m \u001b[0;36m0\u001b[0m\u001b[0;34m:\u001b[0m\u001b[0;34m\u001b[0m\u001b[0;34m\u001b[0m\u001b[0m\n\u001b[1;32m   2086\u001b[0m                 img[cartIdx[0, i],\n",
      "\u001b[0;31mIndexError\u001b[0m: index 22 is out of bounds for axis 2 with size 22"
     ]
    }
   ],
   "source": [
    "img = filt.apply(img)\n",
    "imgPath = os.path.join(savePath, 'mk_med.nii')\n",
    "dp.writeNii(img, hdr, imgPath)"
   ]
  }
 ],
 "metadata": {
  "kernelspec": {
   "display_name": "Python 3",
   "language": "python",
   "name": "python3"
  },
  "language_info": {
   "codemirror_mode": {
    "name": "ipython",
    "version": 3
   },
   "file_extension": ".py",
   "mimetype": "text/x-python",
   "name": "python",
   "nbconvert_exporter": "python",
   "pygments_lexer": "ipython3",
   "version": "3.7.4"
  }
 },
 "nbformat": 4,
 "nbformat_minor": 2
}
