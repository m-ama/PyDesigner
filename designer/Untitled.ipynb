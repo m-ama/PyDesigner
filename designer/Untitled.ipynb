{
 "cells": [
  {
   "cell_type": "code",
   "execution_count": 1,
   "metadata": {},
   "outputs": [],
   "source": [
    "import multiprocessing\n",
    "import os\n",
    "import random as rnd\n",
    "import warnings\n",
    "import cvxpy as cvx\n",
    "import nibabel as nib\n",
    "import numpy as np\n",
    "from joblib import Parallel, delayed\n",
    "from scipy.special import expit as sigmoid\n",
    "from tqdm import tqdm_notebook as tqdm\n",
    "import matplotlib.pyplot as plt\n",
    "from skimage.morphology import binary_closing as close\n",
    "from skimage.morphology import ball\n",
    "from fitting import dwipi as dp"
   ]
  },
  {
   "cell_type": "code",
   "execution_count": 14,
   "metadata": {},
   "outputs": [],
   "source": [
    "imgpath = '/Users/sid/Downloads/PyTest/KTGF/4042/Median_Tissue/metrics/mk.nii'\n",
    "maskpath = '/Users/sid/Downloads/PyTest/KTGF/4042/Median_Tissue/brain_mask.nii'\n",
    "savepath = '/Users/sid/Downloads/PyTest/KTGF/4042/Median_Tissue/TissueMask.nii'"
   ]
  },
  {
   "cell_type": "code",
   "execution_count": 9,
   "metadata": {},
   "outputs": [],
   "source": [
    "hdr = nib.load(imgpath)\n",
    "img = np.array(hdr.dataobj)\n",
    "mask_hdr = nib.load(maskpath)\n",
    "mask = np.array(mask_hdr.dataobj)"
   ]
  },
  {
   "cell_type": "code",
   "execution_count": 19,
   "metadata": {},
   "outputs": [
    {
     "name": "stderr",
     "output_type": "stream",
     "text": [
      "Median Outlier Mask     : 100%|█| 16466/16466 [00:00<00:00, 27031.05vox/s]\n",
      "Locating Replacements   : 100%|█| 1913/1913 [00:00<00:00, 17152.33vox/s]"
     ]
    },
    {
     "name": "stdout",
     "output_type": "stream",
     "text": [
      "0 voxels out of 1913 were completely surrounded by violations and were ignored\n",
      "dict_keys(['Threshold', 'TissueThreshold', 'Size', 'Connectivity', 'Img', 'BrainMask', 'TissueMask', 'OutlierMask', 'CartIdx', 'PatchIdx'])\n"
     ]
    },
    {
     "name": "stderr",
     "output_type": "stream",
     "text": [
      "\n"
     ]
    }
   ],
   "source": [
    "filt = dp.medianFilter(img,\n",
    "                       brainmask=mask,\n",
    "                       tissueth=0.9,\n",
    "                       th=0.4,\n",
    "                      )\n",
    "print(filt.__dict__.keys())"
   ]
  },
  {
   "cell_type": "code",
   "execution_count": 20,
   "metadata": {},
   "outputs": [],
   "source": [
    "save_tmp = nib.Nifti1Image(filt.TissueMask, hdr.affine, hdr.header)\n",
    "nib.save(save_tmp, savepath)"
   ]
  }
 ],
 "metadata": {
  "kernelspec": {
   "display_name": "Python 3",
   "language": "python",
   "name": "python3"
  },
  "language_info": {
   "codemirror_mode": {
    "name": "ipython",
    "version": 3
   },
   "file_extension": ".py",
   "mimetype": "text/x-python",
   "name": "python",
   "nbconvert_exporter": "python",
   "pygments_lexer": "ipython3",
   "version": "3.7.4"
  }
 },
 "nbformat": 4,
 "nbformat_minor": 2
}
